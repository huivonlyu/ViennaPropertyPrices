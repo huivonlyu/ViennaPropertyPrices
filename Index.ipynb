{
  "nbformat": 4,
  "nbformat_minor": 0,
  "metadata": {
    "colab": {
      "provenance": [],
      "authorship_tag": "ABX9TyMdWIMm4QfS61nRlm9aKgU1",
      "include_colab_link": true
    },
    "kernelspec": {
      "name": "python3",
      "display_name": "Python 3"
    },
    "language_info": {
      "name": "python"
    }
  },
  "cells": [
    {
      "cell_type": "markdown",
      "metadata": {
        "id": "view-in-github",
        "colab_type": "text"
      },
      "source": [
        "<a href=\"https://colab.research.google.com/github/huivonlyu/ViennaPropertyPrices/blob/main/Index.ipynb\" target=\"_parent\"><img src=\"https://colab.research.google.com/assets/colab-badge.svg\" alt=\"Open In Colab\"/></a>"
      ]
    },
    {
      "cell_type": "markdown",
      "source": [
        "<h1>Vienna property price analysis</h1>"
      ],
      "metadata": {
        "id": "Vv1xh8PgZ8wM"
      }
    },
    {
      "cell_type": "markdown",
      "source": [
        "Dataset source:\n",
        "https://www.data.gv.at/katalog/dataset/kaufpreissammlung-liegenschaften-wien\n",
        "\n",
        "from Stadt Wien (last update of dateset: 24. April 2023)\n",
        "\n"
      ],
      "metadata": {
        "id": "wVtDybXMaln2"
      }
    },
    {
      "cell_type": "code",
      "source": [
        "import numpy as np\n"
      ],
      "metadata": {
        "id": "cu0SPaTraLXn"
      },
      "execution_count": 1,
      "outputs": []
    }
  ]
}