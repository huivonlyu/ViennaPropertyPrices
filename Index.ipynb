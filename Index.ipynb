{
  "nbformat": 4,
  "nbformat_minor": 0,
  "metadata": {
    "colab": {
      "provenance": [],
      "authorship_tag": "ABX9TyM6ddSoPTNLmjZwARjhAQpy",
      "include_colab_link": true
    },
    "kernelspec": {
      "name": "python3",
      "display_name": "Python 3"
    },
    "language_info": {
      "name": "python"
    }
  },
  "cells": [
    {
      "cell_type": "markdown",
      "metadata": {
        "id": "view-in-github",
        "colab_type": "text"
      },
      "source": [
        "<a href=\"https://colab.research.google.com/github/huivonlyu/ViennaPropertyPrices/blob/main/Index.ipynb\" target=\"_parent\"><img src=\"https://colab.research.google.com/assets/colab-badge.svg\" alt=\"Open In Colab\"/></a>"
      ]
    },
    {
      "cell_type": "markdown",
      "source": [
        "<h1>Vienna Property Price Analysis</h1>"
      ],
      "metadata": {
        "id": "Vv1xh8PgZ8wM"
      }
    },
    {
      "cell_type": "markdown",
      "source": [
        "<h2>Introduction</h2>"
      ],
      "metadata": {
        "id": "yQx6YZkkfRRD"
      }
    },
    {
      "cell_type": "markdown",
      "source": [
        "Dataset source:\n",
        "https://data.europa.eu/data/datasets/c307f89d-b01a-4da2-9f9e-cf3fd2dd651e?locale=en\n",
        "or\n",
        "https://www.data.gv.at/katalog/dataset/kaufpreissammlung-liegenschaften-wien\n",
        "\n",
        "from Stadt Wien (last update of dateset: 24. April 2023)\n",
        "\n",
        "The dataset includes 62212 records of 47 columns information on property transaction in Vienna from 1973 until early 2023.\n"
      ],
      "metadata": {
        "id": "wVtDybXMaln2"
      }
    },
    {
      "cell_type": "markdown",
      "source": [
        "<h2>Data cleanning</h2>"
      ],
      "metadata": {
        "id": "bcK15ibifN2q"
      }
    },
    {
      "cell_type": "markdown",
      "source": [],
      "metadata": {
        "id": "iAHCuE7rm_v6"
      }
    },
    {
      "cell_type": "code",
      "source": [
        "import numpy as np\n",
        "import matplotlib.pyplot as plt\n",
        "import pandas as pd"
      ],
      "metadata": {
        "id": "Axo6XSNrnDN5"
      },
      "execution_count": null,
      "outputs": []
    },
    {
      "cell_type": "markdown",
      "source": [
        "<h2>Exploratory Analysis</h2>"
      ],
      "metadata": {
        "id": "-aXQIlBwfbj0"
      }
    },
    {
      "cell_type": "code",
      "source": [],
      "metadata": {
        "id": "cu0SPaTraLXn"
      },
      "execution_count": null,
      "outputs": []
    },
    {
      "cell_type": "markdown",
      "source": [
        "<h2>Classification Analysis"
      ],
      "metadata": {
        "id": "VBxdQLQyfnOH"
      }
    },
    {
      "cell_type": "markdown",
      "source": [
        "<h2>Cluster Analysis"
      ],
      "metadata": {
        "id": "dV7qGFvxfzrI"
      }
    },
    {
      "cell_type": "markdown",
      "source": [
        "<h2>Time Series Analysis"
      ],
      "metadata": {
        "id": "hALwE9Elf4SP"
      }
    },
    {
      "cell_type": "markdown",
      "source": [
        "<h2>Summary"
      ],
      "metadata": {
        "id": "p1LKxyEEgBpg"
      }
    }
  ]
}